{
 "cells": [
  {
   "cell_type": "markdown",
   "id": "e037ce8d-bde5-40cf-964f-e17e2e019bf9",
   "metadata": {},
   "source": [
    "Compute and return the square root of x, where x is guaranteed to be a non-negative\n",
    "integer. And since the return type is an integer, the decimal digits are truncated and only\n",
    "the integer part of the result is returned. Also, talk about the time complexity of your\n",
    "code.\n",
    "\n",
    "Test Cases:\n",
    "Input: 4\n",
    "Output: 2\n",
    "\n",
    "Input: 8\n",
    "Output: 2\n",
    "Explanation: The square root of 8 is 2.8284....\n",
    "the decimal part is truncated and 2 is returned."
   ]
  },
  {
   "cell_type": "code",
   "execution_count": 1,
   "id": "6afaa199-f279-4d13-b56e-b4607b841fed",
   "metadata": {
    "scrolled": true
   },
   "outputs": [
    {
     "name": "stdout",
     "output_type": "stream",
     "text": [
      "2\n",
      "2\n"
     ]
    }
   ],
   "source": [
    "def sqrt(x):\n",
    "    if x < 2:\n",
    "        return x  # The square root of 0 or 1 is the number itself.\n",
    "\n",
    "    left, right = 0, x\n",
    "    while left <= right:\n",
    "        mid = (left + right) // 2\n",
    "        if mid * mid == x:\n",
    "            return mid\n",
    "        elif mid * mid < x:\n",
    "            left = mid + 1\n",
    "        else:\n",
    "            right = mid - 1\n",
    "\n",
    "    return right  # Return the truncated integer part.\n",
    "\n",
    "# Test Cases\n",
    "print(sqrt(4))  # Output: 2\n",
    "print(sqrt(8))  # Output: 2"
   ]
  },
  {
   "cell_type": "markdown",
   "id": "09b2244c-339d-4df4-9059-40eb83daa003",
   "metadata": {},
   "source": [
    "You are a product manager and currently leading a team to develop a new product.\n",
    "Unfortunately, the latest version of your product fails the quality check. Since each\n",
    "version is developed based on the previous version, all the versions after a bad version\n",
    "are also bad. Suppose you have n version and you want to find out the first bad one,\n",
    "which causes all the following ones to be bad. Also, talk about the time complexity of\n",
    "your code.\n",
    "Test cases:\n",
    "Input: [0,0,0,1,1,1,1,1,1]\n",
    "Output: 3\n",
    "Explanation: 0 indicates a good version and 1 indicates a bad version. So, the index of\n",
    "the first 1 is at 3. Thus, the output is 3"
   ]
  },
  {
   "cell_type": "code",
   "execution_count": 11,
   "id": "bad7cceb-bfed-4959-a2d9-8ab9c2b760fa",
   "metadata": {},
   "outputs": [
    {
     "name": "stdout",
     "output_type": "stream",
     "text": [
      "3\n"
     ]
    }
   ],
   "source": [
    "def first_bad_version(versions):\n",
    "    left, right = 0, len(versions) - 1\n",
    "\n",
    "    while left < right:\n",
    "        mid = (left + right) // 2\n",
    "        if versions[mid] == 1:\n",
    "            right = mid  # Search the left half (including mid)\n",
    "        else:\n",
    "            left = mid + 1  # Search the right half\n",
    "\n",
    "    return left  # Return the index of the first bad version\n",
    "\n",
    "# Test Cases\n",
    "versions = [0, 0, 0, 1, 1, 1, 1, 1, 1]\n",
    "print(first_bad_version(versions))  # Output: 3"
   ]
  },
  {
   "cell_type": "code",
   "execution_count": null,
   "id": "104dbb40-e878-45a1-b632-dc51ded18ebe",
   "metadata": {},
   "outputs": [],
   "source": [
    "Given a positive integer num, write a program that returns True if num is a perfect\n",
    "square else return False. Do not use built-in functions like sqrt. Also, talk about the time\n",
    "complexity of your code.\n",
    "Test Cases:\n",
    "Input: 16\n",
    "Output: True\n",
    "Input: 14\n",
    "Output: False"
   ]
  },
  {
   "cell_type": "code",
   "execution_count": 17,
   "id": "cf557ec2-b622-493b-9324-f4f759da983b",
   "metadata": {},
   "outputs": [
    {
     "name": "stdout",
     "output_type": "stream",
     "text": [
      "True\n",
      "False\n"
     ]
    }
   ],
   "source": [
    "def is_perfect_square(num):\n",
    "    if num < 2:\n",
    "        return True  # 0 and 1 are perfect squares\n",
    "\n",
    "    left, right = 0, num\n",
    "    while left <= right:\n",
    "        mid = (left + right) // 2\n",
    "        if mid * mid == num:\n",
    "            return True  # Found a perfect square\n",
    "        elif mid * mid < num:\n",
    "            left = mid + 1  # Search the right half\n",
    "        else:\n",
    "            right = mid - 1  # Search the left half\n",
    "\n",
    "    return False  # No perfect square found\n",
    "\n",
    "# Test Cases\n",
    "print(is_perfect_square(16))  # Output: True\n",
    "print(is_perfect_square(14))  # Output: False "
   ]
  },
  {
   "cell_type": "code",
   "execution_count": null,
   "id": "bbff881c-179c-4d43-b46c-f9d975565de5",
   "metadata": {},
   "outputs": [],
   "source": []
  }
 ],
 "metadata": {
  "kernelspec": {
   "display_name": "Python 3 (ipykernel)",
   "language": "python",
   "name": "python3"
  },
  "language_info": {
   "codemirror_mode": {
    "name": "ipython",
    "version": 3
   },
   "file_extension": ".py",
   "mimetype": "text/x-python",
   "name": "python",
   "nbconvert_exporter": "python",
   "pygments_lexer": "ipython3",
   "version": "3.12.3"
  }
 },
 "nbformat": 4,
 "nbformat_minor": 5
}
