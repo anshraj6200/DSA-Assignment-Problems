{
 "cells": [
  {
   "cell_type": "markdown",
   "id": "826e0404-abac-4e2a-ab74-18758c0806b8",
   "metadata": {},
   "source": [
    "1. arr = [1, 3, 7, 9, 12, 10, 8, 16, 18, 22, 27]\n",
    "\n",
    "   Create a buildHeap method that returns a minheap.\n",
    "\n",
    "\n",
    "   heapify(arr, n, i):\n",
    "\n",
    "   // Write your own code\n",
    "\n",
    "\n",
    "   buildHeap(arr, n):\n",
    "\n",
    "   //Write your own code\n",
    "\n",
    "   heapify(arr, n, i)"
   ]
  },
  {
   "cell_type": "code",
   "execution_count": 5,
   "id": "e494e429-7439-4c18-9938-60f68d21f236",
   "metadata": {},
   "outputs": [
    {
     "name": "stdout",
     "output_type": "stream",
     "text": [
      "MinHeap: [1, 3, 7, 9, 12, 10, 8, 16, 18, 22, 27]\n"
     ]
    }
   ],
   "source": [
    "def heapify(arr, n, i):\n",
    "    smallest = i  # Assume root is the smallest\n",
    "    left = 2 * i + 1  # Left child index\n",
    "    right = 2 * i + 2  # Right child index\n",
    "    \n",
    "    # If left child exists and is smaller than root\n",
    "    if left < n and arr[left] < arr[smallest]:\n",
    "        smallest = left\n",
    "    \n",
    "    # If right child exists and is smaller than smallest so far\n",
    "    if right < n and arr[right] < arr[smallest]:\n",
    "        smallest = right\n",
    "    \n",
    "    # If smallest is not root, swap and continue heapifying\n",
    "    if smallest != i:\n",
    "        arr[i], arr[smallest] = arr[smallest], arr[i]\n",
    "        heapify(arr, n, smallest)\n",
    "\n",
    "def buildHeap(arr, n):\n",
    "    # Start from the last non-leaf node and heapify each\n",
    "    for i in range(n // 2 - 1, -1, -1):\n",
    "        heapify(arr, n, i)\n",
    "    return arr  # Returning the min-heap\n",
    "\n",
    "# Example usage:\n",
    "arr = [1, 3, 7, 9, 12, 10, 8, 16, 18, 22, 27]\n",
    "n = len(arr)\n",
    "min_heap = buildHeap(arr, n)\n",
    "print(\"MinHeap:\", min_heap)"
   ]
  },
  {
   "cell_type": "code",
   "execution_count": null,
   "id": "8ff19d1f-0b7d-4916-8986-9a55d8603d7c",
   "metadata": {},
   "outputs": [],
   "source": []
  }
 ],
 "metadata": {
  "kernelspec": {
   "display_name": "Python 3 (ipykernel)",
   "language": "python",
   "name": "python3"
  },
  "language_info": {
   "codemirror_mode": {
    "name": "ipython",
    "version": 3
   },
   "file_extension": ".py",
   "mimetype": "text/x-python",
   "name": "python",
   "nbconvert_exporter": "python",
   "pygments_lexer": "ipython3",
   "version": "3.12.3"
  }
 },
 "nbformat": 4,
 "nbformat_minor": 5
}
