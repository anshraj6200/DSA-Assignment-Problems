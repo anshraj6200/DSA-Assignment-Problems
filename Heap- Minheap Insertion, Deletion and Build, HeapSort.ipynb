{
 "cells": [
  {
   "cell_type": "markdown",
   "id": "826e0404-abac-4e2a-ab74-18758c0806b8",
   "metadata": {},
   "source": [
    "1. arr = [1, 3, 7, 9, 12, 10, 8, 16, 18, 22, 27]\n",
    "\n",
    "   Create a buildHeap method that returns a minheap.\n",
    "\n",
    "\n",
    "   heapify(arr, n, i):\n",
    "\n",
    "   // Write your own code\n",
    "\n",
    "\n",
    "   buildHeap(arr, n):\n",
    "\n",
    "   //Write your own code\n",
    "\n",
    "   heapify(arr, n, i)"
   ]
  },
  {
   "cell_type": "code",
   "execution_count": 5,
   "id": "e494e429-7439-4c18-9938-60f68d21f236",
   "metadata": {},
   "outputs": [
    {
     "name": "stdout",
     "output_type": "stream",
     "text": [
      "MinHeap: [1, 3, 7, 9, 12, 10, 8, 16, 18, 22, 27]\n"
     ]
    }
   ],
   "source": [
    "def heapify(arr, n, i):\n",
    "    smallest = i  # Assume root is the smallest\n",
    "    left = 2 * i + 1  # Left child index\n",
    "    right = 2 * i + 2  # Right child index\n",
    "    \n",
    "    # If left child exists and is smaller than root\n",
    "    if left < n and arr[left] < arr[smallest]:\n",
    "        smallest = left\n",
    "    \n",
    "    # If right child exists and is smaller than smallest so far\n",
    "    if right < n and arr[right] < arr[smallest]:\n",
    "        smallest = right\n",
    "    \n",
    "    # If smallest is not root, swap and continue heapifying\n",
    "    if smallest != i:\n",
    "        arr[i], arr[smallest] = arr[smallest], arr[i]\n",
    "        heapify(arr, n, smallest)\n",
    "\n",
    "def buildHeap(arr, n):\n",
    "    # Start from the last non-leaf node and heapify each\n",
    "    for i in range(n // 2 - 1, -1, -1):\n",
    "        heapify(arr, n, i)\n",
    "    return arr  # Returning the min-heap\n",
    "\n",
    "# Example usage:\n",
    "arr = [1, 3, 7, 9, 12, 10, 8, 16, 18, 22, 27]\n",
    "n = len(arr)\n",
    "min_heap = buildHeap(arr, n)\n",
    "print(\"MinHeap:\", min_heap)"
   ]
  },
  {
   "cell_type": "markdown",
   "id": "0df92028-a9b2-442c-93ca-25af6c9a8df2",
   "metadata": {},
   "source": [
    "2. Given an array of strings words and an integer k, return the k most frequent words.\n",
    "\n",
    "   Your output should be in lexicographical order.\n",
    "\n",
    "\n",
    "   Words = [‘priya’, ‘bhatia’, ‘akshay’, ‘arpit’, ‘priya’, ‘arpit’]\n",
    "\n",
    "   K = 3\n",
    "\n",
    "\n",
    "   Output = [‘arpit’, ‘akshay’, ‘priya’]"
   ]
  },
  {
   "cell_type": "code",
   "execution_count": 5,
   "id": "991b788d-381c-43c6-b1f3-9e8a03954189",
   "metadata": {},
   "outputs": [
    {
     "name": "stdout",
     "output_type": "stream",
     "text": [
      "['arpit', 'priya', 'akshay']\n"
     ]
    }
   ],
   "source": [
    "from collections import Counter\n",
    "\n",
    "def topKFrequent(words, k):\n",
    "    count = Counter(words)  # Count word occurrences\n",
    "    # Sort by (-frequency, word) → Higher frequency first, then lexicographical order\n",
    "    sorted_words = sorted(count.keys(), key=lambda w: (-count[w], w))\n",
    "    return sorted_words[:k]  # Return the top K words\n",
    "\n",
    "# Example input\n",
    "words = ['priya', 'bhatia', 'akshay', 'arpit', 'priya', 'arpit']\n",
    "k = 3\n",
    "\n",
    "# Output result\n",
    "print(topKFrequent(words, k))\n"
   ]
  },
  {
   "cell_type": "markdown",
   "id": "e44b7652-4ae8-40b2-8dc3-591ad9d1b21c",
   "metadata": {},
   "source": [
    "3. Find the k closest points to the origin.\n",
    "\n",
    "   Points = [[1, 3], [-2, 2]]\n",
    "\n",
    "   K = 1\n",
    "\n",
    "   Output = [-2,2]"
   ]
  },
  {
   "cell_type": "code",
   "execution_count": 2,
   "id": "260b78a0-3482-4cda-9a81-448bbb09567b",
   "metadata": {},
   "outputs": [
    {
     "name": "stdout",
     "output_type": "stream",
     "text": [
      "[[-2, 2]]\n"
     ]
    }
   ],
   "source": [
    "import heapq\n",
    "\n",
    "def kClosest(points, k):\n",
    "    # Sort points based on distance from origin\n",
    "    points.sort(key=lambda p: p[0]**2 + p[1]**2)\n",
    "    return points[:k]  # Return top k closest points\n",
    "\n",
    "# Example input\n",
    "points = [[1, 3], [-2, 2]]\n",
    "k = 1\n",
    "\n",
    "# Output result\n",
    "print(kClosest(points, k))\n"
   ]
  },
  {
   "cell_type": "code",
   "execution_count": null,
   "id": "1288ef8e-882e-4f54-9f1d-b0507f55c2f6",
   "metadata": {},
   "outputs": [],
   "source": []
  }
 ],
 "metadata": {
  "kernelspec": {
   "display_name": "Python 3 (ipykernel)",
   "language": "python",
   "name": "python3"
  },
  "language_info": {
   "codemirror_mode": {
    "name": "ipython",
    "version": 3
   },
   "file_extension": ".py",
   "mimetype": "text/x-python",
   "name": "python",
   "nbconvert_exporter": "python",
   "pygments_lexer": "ipython3",
   "version": "3.12.3"
  }
 },
 "nbformat": 4,
 "nbformat_minor": 5
}
